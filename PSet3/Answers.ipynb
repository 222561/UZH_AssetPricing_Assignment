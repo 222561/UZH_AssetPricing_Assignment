{
 "cells": [
  {
   "cell_type": "markdown",
   "id": "dc3e71e2",
   "metadata": {},
   "source": [
    "# PSet3\n",
    "\n",
    "### Tsuyoshi, Jan"
   ]
  },
  {
   "cell_type": "code",
   "execution_count": 216,
   "id": "e61dd340",
   "metadata": {
    "hide_input": true
   },
   "outputs": [],
   "source": [
    "import pandas as pd\n",
    "import numpy as np\n",
    "from scipy.optimize import minimize\n",
    "import matplotlib.pyplot as plt\n",
    "\n",
    "# read data\n",
    "dat = pd.read_excel(\"INput/Problem3.5_updatedversion_data.xlsx\",skiprows=1).iloc[:,:7]\n",
    "dat.columns = ['yyyymm'] + list(dat.columns[1:])"
   ]
  },
  {
   "cell_type": "markdown",
   "id": "f324420c",
   "metadata": {},
   "source": [
    "## (a) \n",
    "Download the data from the course’s OLAT. Do the exercises described in parts (i),\n",
    "(ii), and (iii) for the whole sample and also for two subsamples: 7/26−12/63 and 1/64−6/21"
   ]
  },
  {
   "cell_type": "markdown",
   "id": "0c61fe26",
   "metadata": {
    "hide_input": false
   },
   "source": [
    "## (i)\n",
    "Estimate the vector of sample mean excess returns and the covariance matrix of excess returns, for each of the samples. Use these estimates to compute two ex post mean-variance efficient sets: one for portfolios not including the riskless asset and one including the riskless asset.  \n",
    "Plot the two sets on a graph with the standard deviation of excess returns on the horizontal axis and the mean excess return on the vertical axis, and indicate where each of the four Fama-French portfolios and the market portfolio lie.   \n",
    "Calculate the Sharpe ratios of the tangency portfolio and the market portfolio"
   ]
  },
  {
   "cell_type": "code",
   "execution_count": 219,
   "id": "79722dee",
   "metadata": {
    "hide_input": false
   },
   "outputs": [],
   "source": [
    "# i) \n",
    "def MeanVarianceFrontier_set(mu,cov,color,label):\n",
    "    def element_MeanVarianceFrontier(mu,cov):\n",
    "        invcov = np.linalg.inv(cov)\n",
    "        ones =  mu*0+1\n",
    "        \n",
    "        A = np.dot(np.dot(mu,invcov),mu)\n",
    "        B = np.dot(np.dot(ones,invcov),mu)\n",
    "        C = np.dot(np.dot(ones,invcov),ones)\n",
    "        D = A*C-B**2\n",
    "        \n",
    "        return A,B,C,D\n",
    "    \n",
    "    def MeanVarianceFrontier(sigma,A,B,C,D):\n",
    "        if sigma**2-1/C > 0:\n",
    "            mu_p = B/C + np.sqrt(D/C*(sigma**2-1/C))\n",
    "        else:\n",
    "            mu_p = B/C\n",
    "        return mu_p\n",
    "    \n",
    "    A,B,C,D = element_MeanVarianceFrontier(mu,cov)\n",
    "\n",
    "    sigmas = list(np.arange(np.sqrt(1/C),15,step=0.05))\n",
    "    mu_ps = [MeanVarianceFrontier(sigma,A,B,C,D) for sigma in sigmas]\n",
    "    \n",
    "\n",
    "    plt.scatter(sigmas,mu_ps,color=color,label = label)\n",
    "        \n",
    "    plt.legend()\n",
    "    \n",
    "    \n",
    "\n",
    "def MeanVarianceFrontier_set_w_rf(mu,cov,color,label):\n",
    "    invcov = np.linalg.inv(cov)\n",
    "    E = np.dot(np.dot(mu,invcov),mu)\n",
    "    \n",
    "    sigmas = list(np.arange(0,15,step=0.05))\n",
    "    mu_ps = [np.sqrt(E)*sigma for sigma in sigmas]\n",
    "\n",
    "    plt.scatter(sigmas,mu_ps,color=color,label = label)\n",
    "        \n",
    "    plt.legend()\n",
    "    \n",
    "    # get tangent portfolio's SR\n",
    "    SR = np.divide(mu_ps,sigmas)[-1]\n",
    "    \n",
    "    return SR\n",
    "\n",
    "    \n",
    "def run_for_i(syyyymm,eyyyymm):\n",
    "    sample =  dat[(dat['yyyymm']>=syyyymm) & (dat['yyyymm']<=eyyyymm)].set_index('yyyymm')\n",
    "    \n",
    "    # mean excess returns (over riskfree rate)\n",
    "    print(\"#-------------------#\")\n",
    "    print(\"Mean excess returns (over riskfree rate)\")\n",
    "    exrtn = sample.copy()\n",
    "    for col in exrtn.columns:\n",
    "        exrtn[col] = exrtn[col] - sample['Riskfree Rate']\n",
    "    mean_exrtn = exrtn.mean(axis = 0)\n",
    "    display(mean_exrtn.round(2))\n",
    "    \n",
    "    # covariance of excess return\n",
    "    print(\"#-------------------#\")\n",
    "    print(\"Covariance of excess return\")\n",
    "    cov = pd.DataFrame(np.cov(exrtn.T))\n",
    "    cov.index = mean_exrtn.index\n",
    "    cov.columns = mean_exrtn.index\n",
    "    display(cov)\n",
    "    \n",
    "    \n",
    "    print(\"#-------------------#\")\n",
    "    print(\"Plot of Mean Variance Frontiers\")\n",
    "    mu = mean_exrtn[:-1]\n",
    "    cov = cov.iloc[:-1,:-1]\n",
    "    MeanVarianceFrontier_set(mu,cov,\"green\",\"MV fronter without riskless-asset\")\n",
    "    SR_tangent = MeanVarianceFrontier_set_w_rf(mu,cov,\"blue\",\"MV fronter with riskless-asset\")\n",
    "    \n",
    "    colors = ['red','yellow','orange','purple','grey']\n",
    "    for i in range(cov.shape[0]):\n",
    "        if mu.index[i] == \"Market \":\n",
    "            plt.scatter(np.sqrt(cov.iloc[i,i]),mu[i],color=colors[i],label = mu.index[i],marker='^')\n",
    "        else:\n",
    "            plt.scatter(np.sqrt(cov.iloc[i,i]),mu[i],color=colors[i],label = mu.index[i],marker='*')\n",
    "        plt.legend()\n",
    "    plt.legend() \n",
    "    plt.show()\n",
    "    plt.close()\n",
    "    \n",
    "     # Calculate the Sharpe ratios of the tangency portfolio and the market portfolio\n",
    "    print(\"#-------------------#\")\n",
    "    print(\" the Sharpe ratios of the tangency portfolio: \" + str(round(SR_tangent,3)))\n",
    "    SR_market = exrtn['Market '].mean()/exrtn['Market '].std()\n",
    "    print(\" the Sharpe ratios of the market portfolio: \" + str(round(SR_market,3)))\n",
    "    \n",
    "    return SR_tangent,SR_market"
   ]
  },
  {
   "cell_type": "markdown",
   "id": "86f3fc12",
   "metadata": {},
   "source": [
    "### 192607 - 202106"
   ]
  },
  {
   "cell_type": "code",
   "execution_count": 220,
   "id": "5831d678",
   "metadata": {
    "scrolled": false
   },
   "outputs": [
    {
     "name": "stdout",
     "output_type": "stream",
     "text": [
      "#-------------------#\n",
      "Mean excess returns (over riskfree rate)\n"
     ]
    },
    {
     "data": {
      "text/plain": [
       "Small-Low        0.76\n",
       "Small-High       1.18\n",
       "Big-Low          0.68\n",
       "Big-High         0.93\n",
       "Market           0.69\n",
       "Riskfree Rate    0.00\n",
       "dtype: float64"
      ]
     },
     "metadata": {},
     "output_type": "display_data"
    },
    {
     "name": "stdout",
     "output_type": "stream",
     "text": [
      "#-------------------#\n",
      "Covariance of excess return\n"
     ]
    },
    {
     "data": {
      "text/html": [
       "<div>\n",
       "<style scoped>\n",
       "    .dataframe tbody tr th:only-of-type {\n",
       "        vertical-align: middle;\n",
       "    }\n",
       "\n",
       "    .dataframe tbody tr th {\n",
       "        vertical-align: top;\n",
       "    }\n",
       "\n",
       "    .dataframe thead th {\n",
       "        text-align: right;\n",
       "    }\n",
       "</style>\n",
       "<table border=\"1\" class=\"dataframe\">\n",
       "  <thead>\n",
       "    <tr style=\"text-align: right;\">\n",
       "      <th></th>\n",
       "      <th>Small-Low</th>\n",
       "      <th>Small-High</th>\n",
       "      <th>Big-Low</th>\n",
       "      <th>Big-High</th>\n",
       "      <th>Market</th>\n",
       "      <th>Riskfree Rate</th>\n",
       "    </tr>\n",
       "  </thead>\n",
       "  <tbody>\n",
       "    <tr>\n",
       "      <th>Small-Low</th>\n",
       "      <td>56.611984</td>\n",
       "      <td>54.809507</td>\n",
       "      <td>34.058052</td>\n",
       "      <td>43.782076</td>\n",
       "      <td>35.924946</td>\n",
       "      <td>0.0</td>\n",
       "    </tr>\n",
       "    <tr>\n",
       "      <th>Small-High</th>\n",
       "      <td>54.809507</td>\n",
       "      <td>66.349300</td>\n",
       "      <td>33.835736</td>\n",
       "      <td>53.433853</td>\n",
       "      <td>37.758688</td>\n",
       "      <td>0.0</td>\n",
       "    </tr>\n",
       "    <tr>\n",
       "      <th>Big-Low</th>\n",
       "      <td>34.058052</td>\n",
       "      <td>33.835736</td>\n",
       "      <td>28.010722</td>\n",
       "      <td>31.400920</td>\n",
       "      <td>27.654941</td>\n",
       "      <td>0.0</td>\n",
       "    </tr>\n",
       "    <tr>\n",
       "      <th>Big-High</th>\n",
       "      <td>43.782076</td>\n",
       "      <td>53.433853</td>\n",
       "      <td>31.400920</td>\n",
       "      <td>51.237834</td>\n",
       "      <td>34.679560</td>\n",
       "      <td>0.0</td>\n",
       "    </tr>\n",
       "    <tr>\n",
       "      <th>Market</th>\n",
       "      <td>35.924946</td>\n",
       "      <td>37.758688</td>\n",
       "      <td>27.654941</td>\n",
       "      <td>34.679560</td>\n",
       "      <td>28.547580</td>\n",
       "      <td>0.0</td>\n",
       "    </tr>\n",
       "    <tr>\n",
       "      <th>Riskfree Rate</th>\n",
       "      <td>0.000000</td>\n",
       "      <td>0.000000</td>\n",
       "      <td>0.000000</td>\n",
       "      <td>0.000000</td>\n",
       "      <td>0.000000</td>\n",
       "      <td>0.0</td>\n",
       "    </tr>\n",
       "  </tbody>\n",
       "</table>\n",
       "</div>"
      ],
      "text/plain": [
       "               Small-Low  Small-High    Big-Low   Big-High    Market   \\\n",
       "Small-Low      56.611984   54.809507  34.058052  43.782076  35.924946   \n",
       "Small-High     54.809507   66.349300  33.835736  53.433853  37.758688   \n",
       "Big-Low        34.058052   33.835736  28.010722  31.400920  27.654941   \n",
       "Big-High       43.782076   53.433853  31.400920  51.237834  34.679560   \n",
       "Market         35.924946   37.758688  27.654941  34.679560  28.547580   \n",
       "Riskfree Rate   0.000000    0.000000   0.000000   0.000000   0.000000   \n",
       "\n",
       "               Riskfree Rate  \n",
       "Small-Low                0.0  \n",
       "Small-High               0.0  \n",
       "Big-Low                  0.0  \n",
       "Big-High                 0.0  \n",
       "Market                   0.0  \n",
       "Riskfree Rate            0.0  "
      ]
     },
     "metadata": {},
     "output_type": "display_data"
    },
    {
     "name": "stdout",
     "output_type": "stream",
     "text": [
      "#-------------------#\n",
      "Plot of Mean Variance Frontiers\n"
     ]
    },
    {
     "name": "stderr",
     "output_type": "stream",
     "text": [
      "<ipython-input-219-57c2d6be2d49>:45: RuntimeWarning: invalid value encountered in true_divide\n",
      "  SR = np.divide(mu_ps,sigmas)[-1]\n"
     ]
    },
    {
     "data": {
      "image/png": "[encoded data removed]",
      "text/plain": [
       "<Figure size 432x288 with 1 Axes>"
      ]
     },
     "metadata": {
      "needs_background": "light"
     },
     "output_type": "display_data"
    },
    {
     "name": "stdout",
     "output_type": "stream",
     "text": [
      "#-------------------#\n",
      " the Sharpe ratios of the tangency portfolio: 0.188\n",
      " the Sharpe ratios of the market portfolio: 0.129\n"
     ]
    }
   ],
   "source": [
    "syyyymm,eyyyymm = 192607, 202106\n",
    "Sq1,Sm1 = run_for_i(syyyymm,eyyyymm)"
   ]
  },
  {
   "cell_type": "markdown",
   "id": "3981c8e4",
   "metadata": {},
   "source": [
    "### 192607 - 196312"
   ]
  },
  {
   "cell_type": "code",
   "execution_count": 221,
   "id": "6fd19ec2",
   "metadata": {},
   "outputs": [
    {
     "name": "stdout",
     "output_type": "stream",
     "text": [
      "#-------------------#\n",
      "Mean excess returns (over riskfree rate)\n"
     ]
    },
    {
     "data": {
      "text/plain": [
       "Small-Low        0.97\n",
       "Small-High       1.44\n",
       "Big-Low          0.84\n",
       "Big-High         1.23\n",
       "Market           0.86\n",
       "Riskfree Rate    0.00\n",
       "dtype: float64"
      ]
     },
     "metadata": {},
     "output_type": "display_data"
    },
    {
     "name": "stdout",
     "output_type": "stream",
     "text": [
      "#-------------------#\n",
      "Covariance of excess return\n"
     ]
    },
    {
     "data": {
      "text/html": [
       "<div>\n",
       "<style scoped>\n",
       "    .dataframe tbody tr th:only-of-type {\n",
       "        vertical-align: middle;\n",
       "    }\n",
       "\n",
       "    .dataframe tbody tr th {\n",
       "        vertical-align: top;\n",
       "    }\n",
       "\n",
       "    .dataframe thead th {\n",
       "        text-align: right;\n",
       "    }\n",
       "</style>\n",
       "<table border=\"1\" class=\"dataframe\">\n",
       "  <thead>\n",
       "    <tr style=\"text-align: right;\">\n",
       "      <th></th>\n",
       "      <th>Small-Low</th>\n",
       "      <th>Small-High</th>\n",
       "      <th>Big-Low</th>\n",
       "      <th>Big-High</th>\n",
       "      <th>Market</th>\n",
       "      <th>Riskfree Rate</th>\n",
       "    </tr>\n",
       "  </thead>\n",
       "  <tbody>\n",
       "    <tr>\n",
       "      <th>Small-Low</th>\n",
       "      <td>71.612765</td>\n",
       "      <td>85.699423</td>\n",
       "      <td>46.249106</td>\n",
       "      <td>72.486458</td>\n",
       "      <td>49.986001</td>\n",
       "      <td>0.0</td>\n",
       "    </tr>\n",
       "    <tr>\n",
       "      <th>Small-High</th>\n",
       "      <td>85.699423</td>\n",
       "      <td>117.424807</td>\n",
       "      <td>55.839071</td>\n",
       "      <td>97.206697</td>\n",
       "      <td>62.568927</td>\n",
       "      <td>0.0</td>\n",
       "    </tr>\n",
       "    <tr>\n",
       "      <th>Big-Low</th>\n",
       "      <td>46.249106</td>\n",
       "      <td>55.839071</td>\n",
       "      <td>38.403853</td>\n",
       "      <td>51.914217</td>\n",
       "      <td>39.420384</td>\n",
       "      <td>0.0</td>\n",
       "    </tr>\n",
       "    <tr>\n",
       "      <th>Big-High</th>\n",
       "      <td>72.486458</td>\n",
       "      <td>97.206697</td>\n",
       "      <td>51.914217</td>\n",
       "      <td>90.838899</td>\n",
       "      <td>57.777721</td>\n",
       "      <td>0.0</td>\n",
       "    </tr>\n",
       "    <tr>\n",
       "      <th>Market</th>\n",
       "      <td>49.986001</td>\n",
       "      <td>62.568927</td>\n",
       "      <td>39.420384</td>\n",
       "      <td>57.777721</td>\n",
       "      <td>41.730224</td>\n",
       "      <td>0.0</td>\n",
       "    </tr>\n",
       "    <tr>\n",
       "      <th>Riskfree Rate</th>\n",
       "      <td>0.000000</td>\n",
       "      <td>0.000000</td>\n",
       "      <td>0.000000</td>\n",
       "      <td>0.000000</td>\n",
       "      <td>0.000000</td>\n",
       "      <td>0.0</td>\n",
       "    </tr>\n",
       "  </tbody>\n",
       "</table>\n",
       "</div>"
      ],
      "text/plain": [
       "               Small-Low  Small-High    Big-Low   Big-High    Market   \\\n",
       "Small-Low      71.612765   85.699423  46.249106  72.486458  49.986001   \n",
       "Small-High     85.699423  117.424807  55.839071  97.206697  62.568927   \n",
       "Big-Low        46.249106   55.839071  38.403853  51.914217  39.420384   \n",
       "Big-High       72.486458   97.206697  51.914217  90.838899  57.777721   \n",
       "Market         49.986001   62.568927  39.420384  57.777721  41.730224   \n",
       "Riskfree Rate   0.000000    0.000000   0.000000   0.000000   0.000000   \n",
       "\n",
       "               Riskfree Rate  \n",
       "Small-Low                0.0  \n",
       "Small-High               0.0  \n",
       "Big-Low                  0.0  \n",
       "Big-High                 0.0  \n",
       "Market                   0.0  \n",
       "Riskfree Rate            0.0  "
      ]
     },
     "metadata": {},
     "output_type": "display_data"
    },
    {
     "name": "stdout",
     "output_type": "stream",
     "text": [
      "#-------------------#\n",
      "Plot of Mean Variance Frontiers\n"
     ]
    },
    {
     "name": "stderr",
     "output_type": "stream",
     "text": [
      "<ipython-input-219-57c2d6be2d49>:45: RuntimeWarning: invalid value encountered in true_divide\n",
      "  SR = np.divide(mu_ps,sigmas)[-1]\n"
     ]
    },
    {
     "data": {
      "image/png": "[encoded data removed]",
      "text/plain": [
       "<Figure size 432x288 with 1 Axes>"
      ]
     },
     "metadata": {
      "needs_background": "light"
     },
     "output_type": "display_data"
    },
    {
     "name": "stdout",
     "output_type": "stream",
     "text": [
      "#-------------------#\n",
      " the Sharpe ratios of the tangency portfolio: 0.161\n",
      " the Sharpe ratios of the market portfolio: 0.133\n"
     ]
    }
   ],
   "source": [
    "syyyymm,eyyyymm = 192607, 196312\n",
    "Sq2,Sm2 = run_for_i(syyyymm,eyyyymm)"
   ]
  },
  {
   "cell_type": "markdown",
   "id": "8698ec5d",
   "metadata": {},
   "source": [
    "### 199401 - 202106"
   ]
  },
  {
   "cell_type": "code",
   "execution_count": 222,
   "id": "584c61b9",
   "metadata": {},
   "outputs": [
    {
     "name": "stdout",
     "output_type": "stream",
     "text": [
      "#-------------------#\n",
      "Mean excess returns (over riskfree rate)\n"
     ]
    },
    {
     "data": {
      "text/plain": [
       "Small-Low        0.76\n",
       "Small-High       0.99\n",
       "Big-Low          0.85\n",
       "Big-High         0.76\n",
       "Market           0.76\n",
       "Riskfree Rate    0.00\n",
       "dtype: float64"
      ]
     },
     "metadata": {},
     "output_type": "display_data"
    },
    {
     "name": "stdout",
     "output_type": "stream",
     "text": [
      "#-------------------#\n",
      "Covariance of excess return\n"
     ]
    },
    {
     "data": {
      "text/html": [
       "<div>\n",
       "<style scoped>\n",
       "    .dataframe tbody tr th:only-of-type {\n",
       "        vertical-align: middle;\n",
       "    }\n",
       "\n",
       "    .dataframe tbody tr th {\n",
       "        vertical-align: top;\n",
       "    }\n",
       "\n",
       "    .dataframe thead th {\n",
       "        text-align: right;\n",
       "    }\n",
       "</style>\n",
       "<table border=\"1\" class=\"dataframe\">\n",
       "  <thead>\n",
       "    <tr style=\"text-align: right;\">\n",
       "      <th></th>\n",
       "      <th>Small-Low</th>\n",
       "      <th>Small-High</th>\n",
       "      <th>Big-Low</th>\n",
       "      <th>Big-High</th>\n",
       "      <th>Market</th>\n",
       "      <th>Riskfree Rate</th>\n",
       "    </tr>\n",
       "  </thead>\n",
       "  <tbody>\n",
       "    <tr>\n",
       "      <th>Small-Low</th>\n",
       "      <td>47.128077</td>\n",
       "      <td>34.205930</td>\n",
       "      <td>23.761839</td>\n",
       "      <td>25.160483</td>\n",
       "      <td>25.863045</td>\n",
       "      <td>0.0</td>\n",
       "    </tr>\n",
       "    <tr>\n",
       "      <th>Small-High</th>\n",
       "      <td>34.205930</td>\n",
       "      <td>34.489512</td>\n",
       "      <td>18.256307</td>\n",
       "      <td>27.357626</td>\n",
       "      <td>21.497167</td>\n",
       "      <td>0.0</td>\n",
       "    </tr>\n",
       "    <tr>\n",
       "      <th>Big-Low</th>\n",
       "      <td>23.761839</td>\n",
       "      <td>18.256307</td>\n",
       "      <td>18.958771</td>\n",
       "      <td>18.545621</td>\n",
       "      <td>18.871013</td>\n",
       "      <td>0.0</td>\n",
       "    </tr>\n",
       "    <tr>\n",
       "      <th>Big-High</th>\n",
       "      <td>25.160483</td>\n",
       "      <td>27.357626</td>\n",
       "      <td>18.545621</td>\n",
       "      <td>30.742220</td>\n",
       "      <td>20.957987</td>\n",
       "      <td>0.0</td>\n",
       "    </tr>\n",
       "    <tr>\n",
       "      <th>Market</th>\n",
       "      <td>25.863045</td>\n",
       "      <td>21.497167</td>\n",
       "      <td>18.871013</td>\n",
       "      <td>20.957987</td>\n",
       "      <td>19.697581</td>\n",
       "      <td>0.0</td>\n",
       "    </tr>\n",
       "    <tr>\n",
       "      <th>Riskfree Rate</th>\n",
       "      <td>0.000000</td>\n",
       "      <td>0.000000</td>\n",
       "      <td>0.000000</td>\n",
       "      <td>0.000000</td>\n",
       "      <td>0.000000</td>\n",
       "      <td>0.0</td>\n",
       "    </tr>\n",
       "  </tbody>\n",
       "</table>\n",
       "</div>"
      ],
      "text/plain": [
       "               Small-Low  Small-High    Big-Low   Big-High    Market   \\\n",
       "Small-Low      47.128077   34.205930  23.761839  25.160483  25.863045   \n",
       "Small-High     34.205930   34.489512  18.256307  27.357626  21.497167   \n",
       "Big-Low        23.761839   18.256307  18.958771  18.545621  18.871013   \n",
       "Big-High       25.160483   27.357626  18.545621  30.742220  20.957987   \n",
       "Market         25.863045   21.497167  18.871013  20.957987  19.697581   \n",
       "Riskfree Rate   0.000000    0.000000   0.000000   0.000000   0.000000   \n",
       "\n",
       "               Riskfree Rate  \n",
       "Small-Low                0.0  \n",
       "Small-High               0.0  \n",
       "Big-Low                  0.0  \n",
       "Big-High                 0.0  \n",
       "Market                   0.0  \n",
       "Riskfree Rate            0.0  "
      ]
     },
     "metadata": {},
     "output_type": "display_data"
    },
    {
     "name": "stdout",
     "output_type": "stream",
     "text": [
      "#-------------------#\n",
      "Plot of Mean Variance Frontiers\n"
     ]
    },
    {
     "name": "stderr",
     "output_type": "stream",
     "text": [
      "<ipython-input-219-57c2d6be2d49>:45: RuntimeWarning: invalid value encountered in true_divide\n",
      "  SR = np.divide(mu_ps,sigmas)[-1]\n"
     ]
    },
    {
     "data": {
      "image/png": "[encoded data removed]",
      "text/plain": [
       "<Figure size 432x288 with 1 Axes>"
      ]
     },
     "metadata": {
      "needs_background": "light"
     },
     "output_type": "display_data"
    },
    {
     "name": "stdout",
     "output_type": "stream",
     "text": [
      "#-------------------#\n",
      " the Sharpe ratios of the tangency portfolio: 0.334\n",
      " the Sharpe ratios of the market portfolio: 0.172\n"
     ]
    }
   ],
   "source": [
    "syyyymm,eyyyymm = 199401, 202106\n",
    "Sq3,Sm3 = run_for_i(syyyymm,eyyyymm)"
   ]
  },
  {
   "cell_type": "markdown",
   "id": "a622c9d8",
   "metadata": {},
   "source": [
    "## (ii)\n",
    "Plot the expected return against beta for each of the portfolios. Calculate the alphas and discuss your results"
   ]
  },
  {
   "cell_type": "code",
   "execution_count": 223,
   "id": "392d5884",
   "metadata": {
    "hide_input": false,
    "scrolled": false
   },
   "outputs": [],
   "source": [
    "# calculate beta\n",
    "import statsmodels.api as sm\n",
    "def calc_CAPM(sample,col):\n",
    "    y = sample[col] - sample['Riskfree Rate']\n",
    "    x = sample['Market '] - sample['Riskfree Rate']\n",
    "    x = sm.add_constant(x)\n",
    "    result = sm.OLS(y, x).fit()\n",
    "    alpha = result.params.iloc[0]\n",
    "    beta = result.params.iloc[1]\n",
    "    exret_beta = (beta*x.drop('const',axis=1)).mean()\n",
    "    return alpha, beta, exret_beta\n",
    "def run_for_ii(syyyymm,eyyyymm):\n",
    "    sample =  dat[(dat['yyyymm']>=syyyymm) & (dat['yyyymm']<=eyyyymm)].set_index('yyyymm')\n",
    "    # plot beta - expected return graph\n",
    "    print(\"plot beta - expected return graph\")\n",
    "    for col in sample.columns[:4]:\n",
    "        alpha,beta,exret = calc_CAPM(sample,col)\n",
    "        plt.scatter(beta,exret)\n",
    "        plt.text(beta-0.025,exret+0.03, col)\n",
    "    plt.show()\n",
    "    plt.close()\n",
    "    \n",
    "\n",
    "    # plot beta (x-axis) - alpha (y-axis)\n",
    "    print(\"#-------------------#\")\n",
    "    print(\"plot beta (x-axis) - alpha (y-axis)\")\n",
    "    for col in sample.columns[:4]:\n",
    "        alpha,beta,exret = calc_CAPM(sample,col)\n",
    "        plt.scatter(beta,alpha)\n",
    "        plt.text(beta-0.025,alpha+0.01, col)\n",
    "    plt.show()\n",
    "    plt.close()"
   ]
  },
  {
   "cell_type": "markdown",
   "id": "e34621d7",
   "metadata": {},
   "source": [
    "#### Plot of Expected Return against Beta / Plot of  Alpha against Beta"
   ]
  },
  {
   "cell_type": "markdown",
   "id": "2801313e",
   "metadata": {},
   "source": [
    "### 192607 - 202106"
   ]
  },
  {
   "cell_type": "code",
   "execution_count": 224,
   "id": "16de86e2",
   "metadata": {},
   "outputs": [
    {
     "name": "stdout",
     "output_type": "stream",
     "text": [
      "plot beta - expected return graph\n"
     ]
    },
    {
     "data": {
      "image/png": "[encoded data removed]",
      "text/plain": [
       "<Figure size 432x288 with 1 Axes>"
      ]
     },
     "metadata": {
      "needs_background": "light"
     },
     "output_type": "display_data"
    },
    {
     "name": "stdout",
     "output_type": "stream",
     "text": [
      "#-------------------#\n",
      "plot beta (x-axis) - alpha (y-axis)\n"
     ]
    },
    {
     "data": {
      "image/png": "[encoded data removed]",
      "text/plain": [
       "<Figure size 432x288 with 1 Axes>"
      ]
     },
     "metadata": {
      "needs_background": "light"
     },
     "output_type": "display_data"
    }
   ],
   "source": [
    "syyyymm,eyyyymm = 192601, 202106\n",
    "run_for_ii(syyyymm,eyyyymm)"
   ]
  },
  {
   "cell_type": "markdown",
   "id": "0986d192",
   "metadata": {},
   "source": [
    "### 192607 - 199312"
   ]
  },
  {
   "cell_type": "code",
   "execution_count": 225,
   "id": "f6bd3481",
   "metadata": {},
   "outputs": [
    {
     "name": "stdout",
     "output_type": "stream",
     "text": [
      "plot beta - expected return graph\n"
     ]
    },
    {
     "data": {
      "image/png": "[encoded data removed]",
      "text/plain": [
       "<Figure size 432x288 with 1 Axes>"
      ]
     },
     "metadata": {
      "needs_background": "light"
     },
     "output_type": "display_data"
    },
    {
     "name": "stdout",
     "output_type": "stream",
     "text": [
      "#-------------------#\n",
      "plot beta (x-axis) - alpha (y-axis)\n"
     ]
    },
    {
     "data": {
      "image/png": "[encoded data removed]",
      "text/plain": [
       "<Figure size 432x288 with 1 Axes>"
      ]
     },
     "metadata": {
      "needs_background": "light"
     },
     "output_type": "display_data"
    }
   ],
   "source": [
    "syyyymm,eyyyymm = 192601, 199312\n",
    "run_for_ii(syyyymm,eyyyymm)"
   ]
  },
  {
   "cell_type": "markdown",
   "id": "6ea459cc",
   "metadata": {},
   "source": [
    "### 199401 - 202106"
   ]
  },
  {
   "cell_type": "code",
   "execution_count": 226,
   "id": "d326885e",
   "metadata": {},
   "outputs": [
    {
     "name": "stdout",
     "output_type": "stream",
     "text": [
      "plot beta - expected return graph\n"
     ]
    },
    {
     "data": {
      "image/png": "[encoded data removed]",
      "text/plain": [
       "<Figure size 432x288 with 1 Axes>"
      ]
     },
     "metadata": {
      "needs_background": "light"
     },
     "output_type": "display_data"
    },
    {
     "name": "stdout",
     "output_type": "stream",
     "text": [
      "#-------------------#\n",
      "plot beta (x-axis) - alpha (y-axis)\n"
     ]
    },
    {
     "data": {
      "image/png": "[encoded data removed]",
      "text/plain": [
       "<Figure size 432x288 with 1 Axes>"
      ]
     },
     "metadata": {
      "needs_background": "light"
     },
     "output_type": "display_data"
    }
   ],
   "source": [
    "syyyymm,eyyyymm = 199401, 202106\n",
    "run_for_ii(syyyymm,eyyyymm)"
   ]
  },
  {
   "cell_type": "markdown",
   "id": "c057db46",
   "metadata": {},
   "source": [
    "[Discussion]  \n",
    "The result shows that the most of the excess returns can be explained by beta exposure of each portfolio."
   ]
  },
  {
   "cell_type": "markdown",
   "id": "70b619c1",
   "metadata": {
    "hide_input": true
   },
   "source": [
    "## (iii)\n",
    "Test the hypothesis that the market portfolio is mean-variance efficient by calculating a Gibbons-Ross-Shanken test statistic. Interpret your results."
   ]
  },
  {
   "cell_type": "code",
   "execution_count": 236,
   "id": "fdad8db5",
   "metadata": {
    "hide_input": false
   },
   "outputs": [],
   "source": [
    "import scipy.stats as st\n",
    "def run_for_iii(Sq,Sm,T,N):\n",
    "    #  Gibbons-Ross-Shanken test\n",
    "    # reference: Cambell (3.47)\n",
    "    # GRS statistic\n",
    "    f_grs = ((T-N-1)/N) * ((Sq**2-Sm**2)/(1+Sm**2))\n",
    "    p_grs = 1 - st.f.cdf(f_grs, N, (T-N-1))\n",
    "\n",
    "    print(\"F-value: \" + str(round(f_grs,4)))\n",
    "    print(\"P-value: \" + str(round(p_grs,4)))"
   ]
  },
  {
   "cell_type": "markdown",
   "id": "5d32793a",
   "metadata": {},
   "source": [
    "### 192607 - 202106"
   ]
  },
  {
   "cell_type": "code",
   "execution_count": 237,
   "id": "22642579",
   "metadata": {},
   "outputs": [
    {
     "name": "stdout",
     "output_type": "stream",
     "text": [
      "F-value: 4.1391\n",
      "P-value: 0.001\n"
     ]
    }
   ],
   "source": [
    "syyyymm,eyyyymm = 192607, 202106\n",
    "# display(Sq1,Sm1)\n",
    "run_for_iii(Sq1,Sm1,dat[(dat['yyyymm']>=syyyymm) & (dat['yyyymm']<=eyyyymm)].set_index('yyyymm').shape[0],5)"
   ]
  },
  {
   "cell_type": "markdown",
   "id": "6c6cacd9",
   "metadata": {},
   "source": [
    "[Interpretation]  \n",
    "Since the P-value is below 1%, this test discards the null hypothesis that the market portfolio is mean-variance efficient."
   ]
  },
  {
   "cell_type": "markdown",
   "id": "0c230e4f",
   "metadata": {},
   "source": [
    "### 192607 - 199312"
   ]
  },
  {
   "cell_type": "code",
   "execution_count": 238,
   "id": "5516e015",
   "metadata": {},
   "outputs": [
    {
     "name": "stdout",
     "output_type": "stream",
     "text": [
      "F-value: 1.0623\n",
      "P-value: 0.3836\n"
     ]
    }
   ],
   "source": [
    "syyyymm,eyyyymm = 192607, 199312\n",
    "run_for_iii(Sq2,Sm2,dat[(dat['yyyymm']>=syyyymm) & (dat['yyyymm']<=eyyyymm)].set_index('yyyymm').shape[0],6)"
   ]
  },
  {
   "cell_type": "markdown",
   "id": "65fbe38b",
   "metadata": {},
   "source": [
    "[Interpretation]  \n",
    "Since the P-value is above 10%, this test cannot discard the null hypothesis that the market portfolio is mean-variance efficient."
   ]
  },
  {
   "cell_type": "markdown",
   "id": "8ec09818",
   "metadata": {},
   "source": [
    "### 199401 - 202106"
   ]
  },
  {
   "cell_type": "code",
   "execution_count": 239,
   "id": "d76b3ed1",
   "metadata": {},
   "outputs": [
    {
     "name": "stdout",
     "output_type": "stream",
     "text": [
      "F-value: 4.1385\n",
      "P-value: 0.0005\n"
     ]
    }
   ],
   "source": [
    "syyyymm,eyyyymm = 199412, 202106\n",
    "run_for_iii(Sq3,Sm3,dat[(dat['yyyymm']>=syyyymm) & (dat['yyyymm']<=eyyyymm)].set_index('yyyymm').shape[0],6)"
   ]
  },
  {
   "cell_type": "markdown",
   "id": "d9213509",
   "metadata": {},
   "source": [
    "[Interpretation]  \n",
    "Since the P-value is bellow 1%, this test discards the null hypothesis that the market portfolio is mean-variance efficient.  \n",
    "\n",
    "[Interpretation of overall results]  \n",
    "Seemingly, while CAPM had held during 1926-1993, it hasn't held anymore in the last few decades."
   ]
  },
  {
   "cell_type": "markdown",
   "id": "e96cd99c",
   "metadata": {},
   "source": [
    "## (b)\n",
    "In recent years there has been concern that the publicity given to value investing and the creation of quantitative investment strategies may alter the properties of value returns.  \n",
    "One variant of this concern is that the excess return to value may disappear permanently as quantitative investors bid up the price of value stocks to efficient levels.   \n",
    "Another variant is that the excess return to value may become less stable as capital inflows in and out of value stocks in response to shifting sentiment of end investors about quantitative value strategies.  \n",
    "Some have even argued that such shifting sentiment may cause the excess return to value to display a pattern of short-term positive autocorrelation (”style momentum”) and longer-term negative autocorrelation (”style reversal”)."
   ]
  },
  {
   "cell_type": "markdown",
   "id": "4a10d971",
   "metadata": {},
   "source": [
    "## (i)\n",
    "Plot a one-year moving average of the excess return to small value stocks over small growth stocks (small-high minus small-low, or ”small HML”) over the period 1/64 − 6/21. Compare the behavior of the plot in the following subsamples: 1/64 − 12/93, 1/94 − 12/09, 1/10 − 1/20, and 2/20 − 6/21 (COVID period)."
   ]
  },
  {
   "cell_type": "code",
   "execution_count": 15,
   "id": "8d6b8baf",
   "metadata": {
    "hide_input": true
   },
   "outputs": [
    {
     "data": {
      "image/png": "[encoded data removed]",
      "text/plain": [
       "<Figure size 432x288 with 1 Axes>"
      ]
     },
     "metadata": {
      "needs_background": "light"
     },
     "output_type": "display_data"
    }
   ],
   "source": [
    "# 1y MA of small-high minus small-low\n",
    "\n",
    "def plot_12MA__smallHML(syyyymm,eyyyymm):\n",
    "    sample =  dat[(dat['yyyymm']>=syyyymm-100) & (dat['yyyymm']<=eyyyymm)].set_index('yyyymm')\n",
    "    sample.index = pd.to_datetime(sample.index, format='%Y%m')\n",
    "    sample['small HML'] = (sample['Small-High']-sample['Small-Low'])\n",
    "    sample['small HML'].rolling(12).mean().plot()\n",
    "\n",
    "# main period\n",
    "syyyymm,eyyyymm = 196401,202106\n",
    "plot_12MA__smallHML(syyyymm,eyyyymm)\n",
    "plt.show()\n",
    "plt.close()"
   ]
  },
  {
   "cell_type": "code",
   "execution_count": 17,
   "id": "73192050",
   "metadata": {
    "hide_input": true
   },
   "outputs": [
    {
     "data": {
      "image/png": "[encoded data removed]",
      "text/plain": [
       "<Figure size 432x288 with 1 Axes>"
      ]
     },
     "metadata": {
      "needs_background": "light"
     },
     "output_type": "display_data"
    }
   ],
   "source": [
    "# 4 sub periods\n",
    "syyyymm,eyyyymm = 196401,199312\n",
    "plot_12MA__smallHML(syyyymm,eyyyymm)\n",
    "syyyymm,eyyyymm = 199401,200912\n",
    "plot_12MA__smallHML(syyyymm,eyyyymm)\n",
    "syyyymm,eyyyymm = 201001,202001\n",
    "plot_12MA__smallHML(syyyymm,eyyyymm)\n",
    "syyyymm,eyyyymm = 202002,202106\n",
    "plot_12MA__smallHML(syyyymm,eyyyymm)\n",
    "plt.show()\n",
    "plt.close()"
   ]
  },
  {
   "cell_type": "markdown",
   "id": "29145312",
   "metadata": {},
   "source": [
    "[Discussion]  \n",
    "The extent of the volatility of moving-average return differs across each data period. The MA during 199401-200912 volatiles the most."
   ]
  },
  {
   "cell_type": "markdown",
   "id": "38c385e6",
   "metadata": {},
   "source": [
    "## (ii)\n",
    "Calculate the mean, standard deviation, and Sharpe ratio of the excess return on the market portfolio over the Treasury bill, and the return on small HML, for each of the four subsamples above."
   ]
  },
  {
   "cell_type": "code",
   "execution_count": 13,
   "id": "edd2d1da",
   "metadata": {
    "hide_input": true
   },
   "outputs": [
    {
     "data": {
      "text/html": [
       "<div>\n",
       "<style scoped>\n",
       "    .dataframe tbody tr th:only-of-type {\n",
       "        vertical-align: middle;\n",
       "    }\n",
       "\n",
       "    .dataframe tbody tr th {\n",
       "        vertical-align: top;\n",
       "    }\n",
       "\n",
       "    .dataframe thead th {\n",
       "        text-align: right;\n",
       "    }\n",
       "</style>\n",
       "<table border=\"1\" class=\"dataframe\">\n",
       "  <thead>\n",
       "    <tr style=\"text-align: right;\">\n",
       "      <th></th>\n",
       "      <th>Return</th>\n",
       "      <th>Std</th>\n",
       "      <th>SR</th>\n",
       "    </tr>\n",
       "  </thead>\n",
       "  <tbody>\n",
       "    <tr>\n",
       "      <th>196401-202106</th>\n",
       "      <td>0.390</td>\n",
       "      <td>3.249</td>\n",
       "      <td>0.120</td>\n",
       "    </tr>\n",
       "    <tr>\n",
       "      <th>196401-199312</th>\n",
       "      <td>0.538</td>\n",
       "      <td>2.849</td>\n",
       "      <td>0.189</td>\n",
       "    </tr>\n",
       "    <tr>\n",
       "      <th>199401-200912</th>\n",
       "      <td>0.598</td>\n",
       "      <td>3.969</td>\n",
       "      <td>0.151</td>\n",
       "    </tr>\n",
       "    <tr>\n",
       "      <th>201001-202001</th>\n",
       "      <td>-0.190</td>\n",
       "      <td>2.567</td>\n",
       "      <td>-0.074</td>\n",
       "    </tr>\n",
       "    <tr>\n",
       "      <th>202002-202106</th>\n",
       "      <td>-0.959</td>\n",
       "      <td>5.446</td>\n",
       "      <td>-0.176</td>\n",
       "    </tr>\n",
       "  </tbody>\n",
       "</table>\n",
       "</div>"
      ],
      "text/plain": [
       "               Return    Std     SR\n",
       "196401-202106   0.390  3.249  0.120\n",
       "196401-199312   0.538  2.849  0.189\n",
       "199401-200912   0.598  3.969  0.151\n",
       "201001-202001  -0.190  2.567 -0.074\n",
       "202002-202106  -0.959  5.446 -0.176"
      ]
     },
     "execution_count": 13,
     "metadata": {},
     "output_type": "execute_result"
    }
   ],
   "source": [
    "# calculate ret,std,SR on small-High \n",
    "def calc_performance_smallHML(syyyymm,eyyyymm):\n",
    "    sample =  dat[(dat['yyyymm']>=syyyymm) & (dat['yyyymm']<=eyyyymm)].set_index('yyyymm')\n",
    "    sample.index = pd.to_datetime(sample.index, format='%Y%m')\n",
    "    sample['small HML'] = (sample['Small-High']-sample['Small-Low'])\n",
    "    ret = sample['small HML'].mean()\n",
    "    std = sample['small HML'].std()\n",
    "    SR = ret/std\n",
    "    return ret,std,SR\n",
    "\n",
    "# main period\n",
    "syyyymm,eyyyymm = 196401,202106\n",
    "summary = pd.DataFrame(calc_performance_smallHML(syyyymm,eyyyymm))\n",
    "summary.columns = [str(syyyymm)+\"-\"+str(eyyyymm)]\n",
    "summary.index = ['Return','Std','SR']\n",
    "# 4 sub periods\n",
    "syyyymm,eyyyymm = 196401,199312\n",
    "summary[str(syyyymm)+\"-\"+str(eyyyymm)] = calc_performance_smallHML(syyyymm,eyyyymm)\n",
    "syyyymm,eyyyymm = 199401,200912\n",
    "summary[str(syyyymm)+\"-\"+str(eyyyymm)] = calc_performance_smallHML(syyyymm,eyyyymm)\n",
    "syyyymm,eyyyymm = 201001,202001\n",
    "summary[str(syyyymm)+\"-\"+str(eyyyymm)] = calc_performance_smallHML(syyyymm,eyyyymm)\n",
    "syyyymm,eyyyymm = 202002,202106\n",
    "summary[str(syyyymm)+\"-\"+str(eyyyymm)] = calc_performance_smallHML(syyyymm,eyyyymm)\n",
    "\n",
    "summary.round(3).T"
   ]
  },
  {
   "cell_type": "markdown",
   "id": "86c536ed",
   "metadata": {},
   "source": [
    "## (iii)\n",
    "Aggregate the small HML return to the quarterly data frequency and plot its au\u0002tocorrelation function to 12 quarters (3 years) in each of the following subsamples: 1/64 − 12/93, 1/94 − 12/09, and 1/10 − 6/21."
   ]
  },
  {
   "cell_type": "code",
   "execution_count": 26,
   "id": "2159bcec",
   "metadata": {
    "hide_input": true
   },
   "outputs": [
    {
     "data": {
      "image/png": "[encoded data removed]",
      "text/plain": [
       "<Figure size 432x288 with 1 Axes>"
      ]
     },
     "metadata": {
      "needs_background": "light"
     },
     "output_type": "display_data"
    },
    {
     "data": {
      "image/png": "[encoded data removed]",
      "text/plain": [
       "<Figure size 432x288 with 1 Axes>"
      ]
     },
     "metadata": {
      "needs_background": "light"
     },
     "output_type": "display_data"
    },
    {
     "data": {
      "image/png": "[encoded data removed]",
      "text/plain": [
       "<Figure size 432x288 with 1 Axes>"
      ]
     },
     "metadata": {
      "needs_background": "light"
     },
     "output_type": "display_data"
    }
   ],
   "source": [
    "# calculate quartely return on small-High\n",
    "from statsmodels.graphics.tsaplots import plot_acf\n",
    "\n",
    "def cumret_f(x):\n",
    "    ret = 1\n",
    "    for i in x:\n",
    "        ret *= 1+i/100\n",
    "    return (ret  - 1)*100\n",
    "\n",
    "def acf_sHML_quartely_ret(syyyymm,eyyyymm):\n",
    "    sample =  dat[(dat['yyyymm']>=syyyymm) & (dat['yyyymm']<=eyyyymm)].set_index('yyyymm')\n",
    "    sample['Small HML'] = (sample['Small-High']-sample['Small-Low'])\n",
    "    sample['Small-HML_Q'] = sample['Small HML'].rolling(3).apply(cumret_f)\n",
    "    sample = sample.iloc[[True if str(yyyymm)[-2:] in ['03','06','09','12'] else False for yyyymm in sample.index],:]\n",
    "    \n",
    "    sample.index = pd.to_datetime(sample.index, format='%Y%m')\n",
    "    \n",
    "    sample = sample.dropna(subset=['Small-HML_Q'],axis=0)\n",
    "    plot_acf(sample['Small-HML_Q'], lags=np.arange(13), title=\"ACF: \" + str(syyyymm) + \"-\" + str(eyyyymm))\n",
    "\n",
    "# calculate autocorrelation\n",
    "# syyyymm,eyyyymm = 196401,202106\n",
    "# acf_sHML_quartely_ret(syyyymm,eyyyymm)\n",
    "syyyymm,eyyyymm = 196401,199312\n",
    "acf_sHML_quartely_ret(syyyymm,eyyyymm)\n",
    "syyyymm,eyyyymm = 199401,200912\n",
    "acf_sHML_quartely_ret(syyyymm,eyyyymm)\n",
    "syyyymm,eyyyymm = 201001,202106\n",
    "acf_sHML_quartely_ret(syyyymm,eyyyymm)\n"
   ]
  },
  {
   "cell_type": "markdown",
   "id": "f31488d3",
   "metadata": {},
   "source": [
    "## (iv)\n",
    "What do your results suggest about the changing behavior of value returns in recent years? Do they support any of the concerns described above?"
   ]
  },
  {
   "cell_type": "markdown",
   "id": "a51814a1",
   "metadata": {},
   "source": [
    "[Answers]  \n",
    "The return, std, SR table shows that value premium seemingly has disappeared in recent years as the problem statement of (b) says. \n",
    "  \n",
    "The ACF graph based on returns during 199401-200912 tells the possibility of the existences of short-term positive autocorrelation (”style momentum”) and longer-term negative autocorrelation (”style reversal”), while the MA during the same period volatiles the most. These observation totally supports the argument of the relationship between money-in/out flow and the value premium and the argument of the style momentum/reversal."
   ]
  }
 ],
 "metadata": {
  "kernelspec": {
   "display_name": "Python (MS2021)",
   "language": "python",
   "name": "ms2021"
  },
  "language_info": {
   "codemirror_mode": {
    "name": "ipython",
    "version": 3
   },
   "file_extension": ".py",
   "mimetype": "text/x-python",
   "name": "python",
   "nbconvert_exporter": "python",
   "pygments_lexer": "ipython3",
   "version": "3.8.3"
  }
 },
 "nbformat": 4,
 "nbformat_minor": 5
}
