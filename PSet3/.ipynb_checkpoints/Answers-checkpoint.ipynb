{
 "cells": [
  {
   "cell_type": "markdown",
   "id": "dc3e71e2",
   "metadata": {},
   "source": [
    "# PSet3\n",
    "\n",
    "### Tsuyoshi, Jan"
   ]
  },
  {
   "cell_type": "code",
   "execution_count": 4,
   "id": "e61dd340",
   "metadata": {
    "hide_input": true
   },
   "outputs": [],
   "source": [
    "import pandas as pd\n",
    "import numpy as np\n",
    "from scipy.optimize import minimize\n",
    "import matplotlib.pyplot as plt\n",
    "\n",
    "# read data\n",
    "dat = pd.read_excel(\"INput/Problem3.5_updatedversion_data.xlsx\",skiprows=1).iloc[:,:7]\n",
    "dat.columns = ['yyyymm'] + list(dat.columns[1:])"
   ]
  },
  {
   "cell_type": "markdown",
   "id": "f324420c",
   "metadata": {},
   "source": [
    "## (a) \n",
    "Download the data from the course’s OLAT. Do the exercises described in parts (i),\n",
    "(ii), and (iii) for the whole sample and also for two subsamples: 7/26−12/63 and 1/64−6/21"
   ]
  },
  {
   "cell_type": "markdown",
   "id": "0c61fe26",
   "metadata": {
    "hide_input": false
   },
   "source": [
    "## (i)\n",
    "Estimate the vector of sample mean excess returns and the covariance matrix of excess returns, for each of the samples. Use these estimates to compute two ex post mean\u0002variance efficient sets: one for portfolios not including the riskless asset and one including the riskless asset.  \n",
    "Plot the two sets on a graph with the standard deviation of excess returns on the horizontal axis and the mean excess return on the vertical axis, and indicate where each of the four Fama-French portfolios and the market portfolio lie.   \n",
    "Calculate the Sharpe ratios of the tangency portfolio and the market portfolio"
   ]
  },
  {
   "cell_type": "code",
   "execution_count": 48,
   "id": "79722dee",
   "metadata": {
    "hide_input": false
   },
   "outputs": [],
   "source": [
    "# i) \n",
    "syyyymm,eyyyymm = 192607, 196312\n",
    "sample =  dat[(dat['yyyymm']>=syyyymm) & (dat['yyyymm']<=eyyyymm)].set_index('yyyymm')"
   ]
  },
  {
   "cell_type": "code",
   "execution_count": 49,
   "id": "0331fb8f",
   "metadata": {},
   "outputs": [
    {
     "name": "stdout",
     "output_type": "stream",
     "text": [
      "Mean excess returns (over riskfree rate)\n"
     ]
    },
    {
     "data": {
      "text/plain": [
       "Small-Low        0.97\n",
       "Small-High       1.44\n",
       "Big-Low          0.84\n",
       "Big-High         1.23\n",
       "Market           0.86\n",
       "Riskfree Rate    0.00\n",
       "dtype: float64"
      ]
     },
     "execution_count": 49,
     "metadata": {},
     "output_type": "execute_result"
    }
   ],
   "source": [
    "# mean excess returns (over riskfree rate)\n",
    "exrtn = sample.copy()\n",
    "for col in exrtn.columns:\n",
    "    exrtn[col] = exrtn[col] - sample['Riskfree Rate']\n",
    "mean_exrtn = exrtn.mean(axis = 0)\n",
    "print(\"Mean excess returns (over riskfree rate)\")\n",
    "mean_exrtn.round(2)"
   ]
  },
  {
   "cell_type": "code",
   "execution_count": 47,
   "id": "d5faeaec",
   "metadata": {
    "scrolled": true
   },
   "outputs": [
    {
     "name": "stdout",
     "output_type": "stream",
     "text": [
      "Covariance of excess return\n"
     ]
    },
    {
     "data": {
      "text/html": [
       "<div>\n",
       "<style scoped>\n",
       "    .dataframe tbody tr th:only-of-type {\n",
       "        vertical-align: middle;\n",
       "    }\n",
       "\n",
       "    .dataframe tbody tr th {\n",
       "        vertical-align: top;\n",
       "    }\n",
       "\n",
       "    .dataframe thead th {\n",
       "        text-align: right;\n",
       "    }\n",
       "</style>\n",
       "<table border=\"1\" class=\"dataframe\">\n",
       "  <thead>\n",
       "    <tr style=\"text-align: right;\">\n",
       "      <th></th>\n",
       "      <th>Small-Low</th>\n",
       "      <th>Small-High</th>\n",
       "      <th>Big-Low</th>\n",
       "      <th>Big-High</th>\n",
       "      <th>Market</th>\n",
       "      <th>Riskfree Rate</th>\n",
       "    </tr>\n",
       "  </thead>\n",
       "  <tbody>\n",
       "    <tr>\n",
       "      <th>Small-Low</th>\n",
       "      <td>71.612765</td>\n",
       "      <td>85.699423</td>\n",
       "      <td>46.249106</td>\n",
       "      <td>72.486458</td>\n",
       "      <td>49.986001</td>\n",
       "      <td>0.0</td>\n",
       "    </tr>\n",
       "    <tr>\n",
       "      <th>Small-High</th>\n",
       "      <td>85.699423</td>\n",
       "      <td>117.424807</td>\n",
       "      <td>55.839071</td>\n",
       "      <td>97.206697</td>\n",
       "      <td>62.568927</td>\n",
       "      <td>0.0</td>\n",
       "    </tr>\n",
       "    <tr>\n",
       "      <th>Big-Low</th>\n",
       "      <td>46.249106</td>\n",
       "      <td>55.839071</td>\n",
       "      <td>38.403853</td>\n",
       "      <td>51.914217</td>\n",
       "      <td>39.420384</td>\n",
       "      <td>0.0</td>\n",
       "    </tr>\n",
       "    <tr>\n",
       "      <th>Big-High</th>\n",
       "      <td>72.486458</td>\n",
       "      <td>97.206697</td>\n",
       "      <td>51.914217</td>\n",
       "      <td>90.838899</td>\n",
       "      <td>57.777721</td>\n",
       "      <td>0.0</td>\n",
       "    </tr>\n",
       "    <tr>\n",
       "      <th>Market</th>\n",
       "      <td>49.986001</td>\n",
       "      <td>62.568927</td>\n",
       "      <td>39.420384</td>\n",
       "      <td>57.777721</td>\n",
       "      <td>41.730224</td>\n",
       "      <td>0.0</td>\n",
       "    </tr>\n",
       "    <tr>\n",
       "      <th>Riskfree Rate</th>\n",
       "      <td>0.000000</td>\n",
       "      <td>0.000000</td>\n",
       "      <td>0.000000</td>\n",
       "      <td>0.000000</td>\n",
       "      <td>0.000000</td>\n",
       "      <td>0.0</td>\n",
       "    </tr>\n",
       "  </tbody>\n",
       "</table>\n",
       "</div>"
      ],
      "text/plain": [
       "               Small-Low  Small-High    Big-Low   Big-High    Market   \\\n",
       "Small-Low      71.612765   85.699423  46.249106  72.486458  49.986001   \n",
       "Small-High     85.699423  117.424807  55.839071  97.206697  62.568927   \n",
       "Big-Low        46.249106   55.839071  38.403853  51.914217  39.420384   \n",
       "Big-High       72.486458   97.206697  51.914217  90.838899  57.777721   \n",
       "Market         49.986001   62.568927  39.420384  57.777721  41.730224   \n",
       "Riskfree Rate   0.000000    0.000000   0.000000   0.000000   0.000000   \n",
       "\n",
       "               Riskfree Rate  \n",
       "Small-Low                0.0  \n",
       "Small-High               0.0  \n",
       "Big-Low                  0.0  \n",
       "Big-High                 0.0  \n",
       "Market                   0.0  \n",
       "Riskfree Rate            0.0  "
      ]
     },
     "execution_count": 47,
     "metadata": {},
     "output_type": "execute_result"
    }
   ],
   "source": [
    "# covariance of excess return\n",
    "cov = pd.DataFrame(np.cov(exrtn.T))\n",
    "cov.index = mean_exrtn.index\n",
    "cov.columns = mean_exrtn.index\n",
    "print(\"Covariance of excess return\")\n",
    "cov"
   ]
  },
  {
   "cell_type": "code",
   "execution_count": 50,
   "id": "64f6cff9",
   "metadata": {
    "hide_input": false
   },
   "outputs": [
    {
     "name": "stdout",
     "output_type": "stream",
     "text": [
      "Plot of the two sets + each factor portfolio (x-axis: std, y-axis: mean excess return\n"
     ]
    },
    {
     "data": {
      "image/png": "[encoded data removed]",
      "text/plain": [
       "<Figure size 432x288 with 1 Axes>"
      ]
     },
     "metadata": {
      "needs_background": "light"
     },
     "output_type": "display_data"
    }
   ],
   "source": [
    "# mean - variance efficent sets\n",
    "def exret_vol(port_weights):\n",
    "    port_exret = np.dot(mean_exrtn,port_weights)\n",
    "    port_vol = np.sqrt(np.dot(port_weights,np.dot(cov,port_weights)))\n",
    "    return port_exret, port_vol\n",
    "\n",
    "def port_SR(port_weights):\n",
    "    port_exret, port_vol = exret_vol(port_weights)\n",
    "    return port_exret/port_vol\n",
    "\n",
    "def objective(port_weights):\n",
    "    return -port_SR(port_weights)\n",
    "\n",
    "def optimized_weights(sample,objective,bnds,cons):\n",
    "    port_weights = (np.zeros(sample.shape[1]) + 1)/sample.shape[1]\n",
    "    res = minimize(objective, port_weights, method='SLSQP',\n",
    "                   bounds=bnds,constraints=cons)\n",
    "    \n",
    "    port_weights = list(res.x)\n",
    "    return port_weights\n",
    "\n",
    "# without riskless asset\n",
    "# bnds = []\n",
    "bnds = [(0,1) for i in range(sample.shape[1])]\n",
    "cons = [{'type':'eq','fun': lambda port_weights: np.sum(port_weights) - 1},\n",
    "        {'type':'eq','fun': lambda port_weights: port_weights[-1] }]\n",
    "weights_opt1 = optimized_weights(sample,objective,bnds,cons)\n",
    "# exret_vol(weights_opt1)\n",
    "# port_SR(weights_opt1)\n",
    "\n",
    "# with riskless asset\n",
    "cons = [{'type':'eq','fun': lambda port_weights: np.sum(port_weights) - 1}]\n",
    "weights_opt2 = optimized_weights(sample,objective,bnds,cons)\n",
    "# exret_vol(weights_opt2)\n",
    "# port_SR(weights_opt2)\n",
    "\n",
    "df = pd.DataFrame([exret_vol([1,0,0,0,0,0])\n",
    "                   ,exret_vol([0,1,0,0,0,0])\n",
    "                   ,exret_vol([0,0,1,0,0,0])\n",
    "                   ,exret_vol([0,0,0,1,0,0])\n",
    "                   ,exret_vol([0,0,0,0,1,0])\n",
    "                   ,exret_vol([0,0,0,0,0,1])\n",
    "                   ,exret_vol(weights_opt1)\n",
    "                   ,exret_vol(weights_opt2)])\n",
    "df.index = list(sample.columns) + ['Without riskless asset','With riskless asset']\n",
    "# df.plot.scatter(x=1,y=0,xlim=(0,10),ylim=(-0.1,1.5))\n",
    "# plt.close()\n",
    "\n",
    "# plot two sets above + each factor portfolio (x-axis: std, y-axis: mean excess return\n",
    "print(\"Plot of the two sets + each factor portfolio (x-axis: std, y-axis: mean excess return\")\n",
    "for i,row in enumerate(df.index):\n",
    "    if i == 4:\n",
    "        plt.scatter(df.loc[row,1],df.loc[row,0],marker=\"s\")\n",
    "        plt.text(df.loc[row,1]+0.2,df.loc[row,0]-0.04, row)\n",
    "    elif i <4:\n",
    "        plt.scatter(df.loc[row,1],df.loc[row,0])\n",
    "        plt.text(df.loc[row,1]-1,df.loc[row,0]-0.1, row)\n",
    "    else:\n",
    "        plt.scatter(df.loc[row,1],df.loc[row,0],marker=\"^\")\n",
    "        plt.text(df.loc[row,1]-1.5,df.loc[row,0]+0.05, row)\n",
    "plt.show()\n",
    "plt.close()"
   ]
  },
  {
   "cell_type": "code",
   "execution_count": 52,
   "id": "be68ba41",
   "metadata": {
    "hide_input": true
   },
   "outputs": [
    {
     "name": "stdout",
     "output_type": "stream",
     "text": [
      " the Sharpe ratios of the tangency portfolio: 0.14\n",
      " the Sharpe ratios of the market portfolio: 0.133\n"
     ]
    }
   ],
   "source": [
    "# Calculate the Sharpe ratios of the tangency portfolio and the market portfolio\n",
    "print(\" the Sharpe ratios of the tangency portfolio: \" + str(round(port_SR(weights_opt2),3)))\n",
    "print(\" the Sharpe ratios of the market portfolio: \" + str(round(exrtn['Market '].mean()/exrtn['Market '].std(),3)))"
   ]
  },
  {
   "cell_type": "markdown",
   "id": "a622c9d8",
   "metadata": {},
   "source": [
    "## (ii)\n",
    "Plot the expected return against beta for each of the portfolios. Calculate the alphas and discuss your results"
   ]
  },
  {
   "cell_type": "markdown",
   "id": "e34621d7",
   "metadata": {},
   "source": [
    "#### Plot of Expected Return against Beta"
   ]
  },
  {
   "cell_type": "code",
   "execution_count": 53,
   "id": "392d5884",
   "metadata": {
    "hide_input": true,
    "scrolled": true
   },
   "outputs": [
    {
     "data": {
      "image/png": "[encoded data removed]",
      "text/plain": [
       "<Figure size 432x288 with 1 Axes>"
      ]
     },
     "metadata": {
      "needs_background": "light"
     },
     "output_type": "display_data"
    }
   ],
   "source": [
    "# calculate beta\n",
    "import statsmodels.api as sm\n",
    "def calc_CAPM(sample,col):\n",
    "    y = sample[col] - sample['Riskfree Rate']\n",
    "    x = sample['Market '] - sample['Riskfree Rate']\n",
    "    x = sm.add_constant(x)\n",
    "    result = sm.OLS(y, x).fit()\n",
    "    alpha = result.params.iloc[0]\n",
    "    beta = result.params.iloc[1]\n",
    "    exret_beta = (beta*x.drop('const',axis=1)).mean()\n",
    "    return alpha, beta, exret_beta\n",
    "\n",
    "# plot beta - expected return graph\n",
    "for col in sample.columns[:4]:\n",
    "    alpha,beta,exret = calc_CAPM(sample,col)\n",
    "    plt.scatter(beta,exret)\n",
    "    plt.text(beta-0.025,exret+0.03, col)\n",
    "plt.show()\n",
    "plt.close()"
   ]
  },
  {
   "cell_type": "markdown",
   "id": "5eb75bf5",
   "metadata": {},
   "source": [
    "#### Plot of Alphas against Beta"
   ]
  },
  {
   "cell_type": "code",
   "execution_count": 54,
   "id": "3b02928e",
   "metadata": {
    "hide_input": true,
    "scrolled": true
   },
   "outputs": [
    {
     "data": {
      "image/png": "[encoded data removed]",
      "text/plain": [
       "<Figure size 432x288 with 1 Axes>"
      ]
     },
     "metadata": {
      "needs_background": "light"
     },
     "output_type": "display_data"
    }
   ],
   "source": [
    "# plot beta (x-axis) - alpha (y-axis)\n",
    "for col in sample.columns[:4]:\n",
    "    alpha,beta,exret = calc_CAPM(sample,col)\n",
    "    plt.scatter(beta,alpha)\n",
    "    plt.text(beta-0.025,alpha+0.01, col)\n",
    "plt.show()\n",
    "plt.close()"
   ]
  },
  {
   "cell_type": "markdown",
   "id": "c057db46",
   "metadata": {},
   "source": [
    "[Discussion]  \n",
    "The result shows that the most of the excess returns can be explained by beta exposure of each portfolio."
   ]
  },
  {
   "cell_type": "markdown",
   "id": "70b619c1",
   "metadata": {
    "hide_input": true
   },
   "source": [
    "## (iii)\n",
    "Test the hypothesis that the market portfolio is mean-variance efficient by calculating a Gibbons-Ross-Shanken test statistic. Interpret your results."
   ]
  },
  {
   "cell_type": "code",
   "execution_count": 56,
   "id": "fdad8db5",
   "metadata": {
    "hide_input": false
   },
   "outputs": [
    {
     "name": "stdout",
     "output_type": "stream",
     "text": [
      "F-value: 1.538\n",
      "P-value: 0.215\n"
     ]
    }
   ],
   "source": [
    "#  Gibbons-Ross-Shanken test\n",
    "# reference: https://github.com/SoniaistSonia/GRS-test_Python/blob/master/GRS_test_Python\n",
    "\n",
    "\"\"\"\n",
    "Function GRS_test(factor, resid, alpha) is to conduct GRS test according \n",
    "to Gibbons, Ross & Shanken(1989) to receive GRS-statistic and p-value.\n",
    "\n",
    "H0: alpha1=alpha2=...=alphaN\n",
    "\n",
    "Parameters:\n",
    "  T = number of months\n",
    "  N = number of portfolios\n",
    "  L = number of factors\n",
    "\n",
    "Inputs:\n",
    "  factor: matrix of FF factors with shape (T, L)\n",
    "  resid: matrix of residuals with shape (T, N)\n",
    "  alpha: matrix of intercepts with shape (N, 1)\n",
    "\n",
    "Outputs:\n",
    "  f_grs: GRS-statistic\n",
    "  p_grs: P-value\n",
    "\n",
    "\"\"\"\n",
    "\n",
    "import scipy.stats as st\n",
    "\n",
    "def GRS_test(factor, resid, alpha):\n",
    "    N = resid.shape[1]        \n",
    "    T = resid.shape[0]       \n",
    "    L = factor.shape[1]      \n",
    "\n",
    "    if (T-N-L) < 0:\n",
    "        print('can not conduct GRS test because T-N-L<0')\n",
    "        return\n",
    "\n",
    "    factor = np.asmatrix(factor)                   # factor matrix (T, L)\n",
    "    resid = np.asmatrix(resid)                     # residual matrix (T, N)\n",
    "    alpha = np.asmatrix(alpha).reshape(N, 1)       # intercept matrix (N, 1)\n",
    "\n",
    "    mean_return_factor = (factor.mean(axis=0))\n",
    "\n",
    "    # covariance matrix of residuals\n",
    "    cov_resid = (resid.T * resid) / (T-L-1)\n",
    "    # covariance matrix of factors\n",
    "    cov_factor = ((factor - mean_return_factor).T * (factor - mean_return_factor)) / (T-1)\n",
    "\n",
    "    mean_return_factor = mean_return_factor.reshape(L, 1)\n",
    "\n",
    "    # GRS statistic\n",
    "    f_grs = float((T/N) * ((T-N-L)/(T-L-1)) * ((alpha.T * np.linalg.inv(cov_resid) * alpha) / (1 + mean_return_factor.T * np.linalg.inv(cov_factor) * mean_return_factor)))\n",
    "\n",
    "    # p-value\n",
    "    p_grs = 1 - st.f.cdf(f_grs, N, (T-N-L))\n",
    "\n",
    "    return f_grs, p_grs\n",
    "\n",
    " \n",
    "# defining the variables\n",
    "x = sample['Market '].tolist()\n",
    "y = np.dot(sample,weights_opt2).tolist()\n",
    " \n",
    "# adding the constant term\n",
    "x = sm.add_constant(x)\n",
    " \n",
    "# performing the regression\n",
    "# and fitting the model\n",
    "result = sm.OLS(y, x).fit()\n",
    "\n",
    "\n",
    "fvalue,pvalue = GRS_test(pd.DataFrame(sample['Market ']),pd.DataFrame(result.resid),pd.DataFrame([result.params[0]]))\n",
    "print(\"F-value: \" + str(round(fvalue,3)))\n",
    "print(\"P-value: \" + str(round(pvalue,3)))"
   ]
  },
  {
   "cell_type": "markdown",
   "id": "6c6cacd9",
   "metadata": {},
   "source": [
    "[Interpratation]  \n",
    "Since the P-value is above 10%, this test cannot discard the null hypothesis that the market portfolio is mean-variance efficient."
   ]
  },
  {
   "cell_type": "markdown",
   "id": "e96cd99c",
   "metadata": {},
   "source": [
    "## (b)\n",
    "In recent years there has been concern that the publicity given to value investing and the creation of quantitative investment strategies may alter the properties of value returns.  \n",
    "One variant of this concern is that the excess return to value may disappear permanently as quantitative investors bid up the price of value stocks to efficient levels.   \n",
    "Another variant is that the excess return to value may become less stable as capital inflows in and out of value stocks in response to shifting sentiment of end investors about quantitative value strategies.  \n",
    "Some have even argued that such shifting sentiment may cause the excess return to value to display a pattern of short-term positive autocorrelation (”style momentum”) and longer-term negative autocorrelation (”style reversal”)."
   ]
  },
  {
   "cell_type": "markdown",
   "id": "4a10d971",
   "metadata": {},
   "source": [
    "## (i)\n",
    "Plot a one-year moving average of the excess return to small value stocks over small growth stocks (small-high minus small-low, or ”small HML”) over the period 1/64 − 6/21. Compare the behavior of the plot in the following subsamples: 1/64 − 12/93, 1/94 − 12/09, 1/10 − 1/20, and 2/20 − 6/21 (COVID period)."
   ]
  },
  {
   "cell_type": "code",
   "execution_count": 15,
   "id": "8d6b8baf",
   "metadata": {
    "hide_input": true
   },
   "outputs": [
    {
     "data": {
      "image/png": "[encoded data removed]",
      "text/plain": [
       "<Figure size 432x288 with 1 Axes>"
      ]
     },
     "metadata": {
      "needs_background": "light"
     },
     "output_type": "display_data"
    }
   ],
   "source": [
    "# 1y MA of small-high minus small-low\n",
    "\n",
    "def plot_12MA__smallHML(syyyymm,eyyyymm):\n",
    "    sample =  dat[(dat['yyyymm']>=syyyymm-100) & (dat['yyyymm']<=eyyyymm)].set_index('yyyymm')\n",
    "    sample.index = pd.to_datetime(sample.index, format='%Y%m')\n",
    "    sample['small HML'] = (sample['Small-High']-sample['Small-Low'])\n",
    "    sample['small HML'].rolling(12).mean().plot()\n",
    "\n",
    "# main period\n",
    "syyyymm,eyyyymm = 196401,202106\n",
    "plot_12MA__smallHML(syyyymm,eyyyymm)\n",
    "plt.show()\n",
    "plt.close()"
   ]
  },
  {
   "cell_type": "code",
   "execution_count": 17,
   "id": "73192050",
   "metadata": {
    "hide_input": true
   },
   "outputs": [
    {
     "data": {
      "image/png": "[encoded data removed]",
      "text/plain": [
       "<Figure size 432x288 with 1 Axes>"
      ]
     },
     "metadata": {
      "needs_background": "light"
     },
     "output_type": "display_data"
    }
   ],
   "source": [
    "# 4 sub periods\n",
    "syyyymm,eyyyymm = 196401,199312\n",
    "plot_12MA__smallHML(syyyymm,eyyyymm)\n",
    "syyyymm,eyyyymm = 199401,200912\n",
    "plot_12MA__smallHML(syyyymm,eyyyymm)\n",
    "syyyymm,eyyyymm = 201001,202001\n",
    "plot_12MA__smallHML(syyyymm,eyyyymm)\n",
    "syyyymm,eyyyymm = 202002,202106\n",
    "plot_12MA__smallHML(syyyymm,eyyyymm)\n",
    "plt.show()\n",
    "plt.close()"
   ]
  },
  {
   "cell_type": "markdown",
   "id": "29145312",
   "metadata": {},
   "source": [
    "[Discussion]  \n",
    "The extent of the volatility of moving-average return differs across each data period. The MA during 199401-200912 volatiles the most."
   ]
  },
  {
   "cell_type": "markdown",
   "id": "38c385e6",
   "metadata": {},
   "source": [
    "## (ii)\n",
    "Calculate the mean, standard deviation, and Sharpe ratio of the excess return on the market portfolio over the Treasury bill, and the return on small HML, for each of the four subsamples above."
   ]
  },
  {
   "cell_type": "code",
   "execution_count": 13,
   "id": "edd2d1da",
   "metadata": {
    "hide_input": true
   },
   "outputs": [
    {
     "data": {
      "text/html": [
       "<div>\n",
       "<style scoped>\n",
       "    .dataframe tbody tr th:only-of-type {\n",
       "        vertical-align: middle;\n",
       "    }\n",
       "\n",
       "    .dataframe tbody tr th {\n",
       "        vertical-align: top;\n",
       "    }\n",
       "\n",
       "    .dataframe thead th {\n",
       "        text-align: right;\n",
       "    }\n",
       "</style>\n",
       "<table border=\"1\" class=\"dataframe\">\n",
       "  <thead>\n",
       "    <tr style=\"text-align: right;\">\n",
       "      <th></th>\n",
       "      <th>Return</th>\n",
       "      <th>Std</th>\n",
       "      <th>SR</th>\n",
       "    </tr>\n",
       "  </thead>\n",
       "  <tbody>\n",
       "    <tr>\n",
       "      <th>196401-202106</th>\n",
       "      <td>0.390</td>\n",
       "      <td>3.249</td>\n",
       "      <td>0.120</td>\n",
       "    </tr>\n",
       "    <tr>\n",
       "      <th>196401-199312</th>\n",
       "      <td>0.538</td>\n",
       "      <td>2.849</td>\n",
       "      <td>0.189</td>\n",
       "    </tr>\n",
       "    <tr>\n",
       "      <th>199401-200912</th>\n",
       "      <td>0.598</td>\n",
       "      <td>3.969</td>\n",
       "      <td>0.151</td>\n",
       "    </tr>\n",
       "    <tr>\n",
       "      <th>201001-202001</th>\n",
       "      <td>-0.190</td>\n",
       "      <td>2.567</td>\n",
       "      <td>-0.074</td>\n",
       "    </tr>\n",
       "    <tr>\n",
       "      <th>202002-202106</th>\n",
       "      <td>-0.959</td>\n",
       "      <td>5.446</td>\n",
       "      <td>-0.176</td>\n",
       "    </tr>\n",
       "  </tbody>\n",
       "</table>\n",
       "</div>"
      ],
      "text/plain": [
       "               Return    Std     SR\n",
       "196401-202106   0.390  3.249  0.120\n",
       "196401-199312   0.538  2.849  0.189\n",
       "199401-200912   0.598  3.969  0.151\n",
       "201001-202001  -0.190  2.567 -0.074\n",
       "202002-202106  -0.959  5.446 -0.176"
      ]
     },
     "execution_count": 13,
     "metadata": {},
     "output_type": "execute_result"
    }
   ],
   "source": [
    "# calculate ret,std,SR on small-High \n",
    "def calc_performance_smallHML(syyyymm,eyyyymm):\n",
    "    sample =  dat[(dat['yyyymm']>=syyyymm) & (dat['yyyymm']<=eyyyymm)].set_index('yyyymm')\n",
    "    sample.index = pd.to_datetime(sample.index, format='%Y%m')\n",
    "    sample['small HML'] = (sample['Small-High']-sample['Small-Low'])\n",
    "    ret = sample['small HML'].mean()\n",
    "    std = sample['small HML'].std()\n",
    "    SR = ret/std\n",
    "    return ret,std,SR\n",
    "\n",
    "# main period\n",
    "syyyymm,eyyyymm = 196401,202106\n",
    "summary = pd.DataFrame(calc_performance_smallHML(syyyymm,eyyyymm))\n",
    "summary.columns = [str(syyyymm)+\"-\"+str(eyyyymm)]\n",
    "summary.index = ['Return','Std','SR']\n",
    "# 4 sub periods\n",
    "syyyymm,eyyyymm = 196401,199312\n",
    "summary[str(syyyymm)+\"-\"+str(eyyyymm)] = calc_performance_smallHML(syyyymm,eyyyymm)\n",
    "syyyymm,eyyyymm = 199401,200912\n",
    "summary[str(syyyymm)+\"-\"+str(eyyyymm)] = calc_performance_smallHML(syyyymm,eyyyymm)\n",
    "syyyymm,eyyyymm = 201001,202001\n",
    "summary[str(syyyymm)+\"-\"+str(eyyyymm)] = calc_performance_smallHML(syyyymm,eyyyymm)\n",
    "syyyymm,eyyyymm = 202002,202106\n",
    "summary[str(syyyymm)+\"-\"+str(eyyyymm)] = calc_performance_smallHML(syyyymm,eyyyymm)\n",
    "\n",
    "summary.round(3).T"
   ]
  },
  {
   "cell_type": "markdown",
   "id": "86c536ed",
   "metadata": {},
   "source": [
    "## (iii)\n",
    "Aggregate the small HML return to the quarterly data frequency and plot its au\u0002tocorrelation function to 12 quarters (3 years) in each of the following subsamples: 1/64 − 12/93, 1/94 − 12/09, and 1/10 − 6/21."
   ]
  },
  {
   "cell_type": "code",
   "execution_count": 26,
   "id": "2159bcec",
   "metadata": {
    "hide_input": true
   },
   "outputs": [
    {
     "data": {
      "image/png": "[encoded data removed]",
      "text/plain": [
       "<Figure size 432x288 with 1 Axes>"
      ]
     },
     "metadata": {
      "needs_background": "light"
     },
     "output_type": "display_data"
    },
    {
     "data": {
      "image/png": "[encoded data removed]",
      "text/plain": [
       "<Figure size 432x288 with 1 Axes>"
      ]
     },
     "metadata": {
      "needs_background": "light"
     },
     "output_type": "display_data"
    },
    {
     "data": {
      "image/png": "[encoded data removed]",
      "text/plain": [
       "<Figure size 432x288 with 1 Axes>"
      ]
     },
     "metadata": {
      "needs_background": "light"
     },
     "output_type": "display_data"
    }
   ],
   "source": [
    "# calculate quartely return on small-High\n",
    "from statsmodels.graphics.tsaplots import plot_acf\n",
    "\n",
    "def cumret_f(x):\n",
    "    ret = 1\n",
    "    for i in x:\n",
    "        ret *= 1+i/100\n",
    "    return (ret  - 1)*100\n",
    "\n",
    "def acf_sHML_quartely_ret(syyyymm,eyyyymm):\n",
    "    sample =  dat[(dat['yyyymm']>=syyyymm) & (dat['yyyymm']<=eyyyymm)].set_index('yyyymm')\n",
    "    sample['Small HML'] = (sample['Small-High']-sample['Small-Low'])\n",
    "    sample['Small-HML_Q'] = sample['Small HML'].rolling(3).apply(cumret_f)\n",
    "    sample = sample.iloc[[True if str(yyyymm)[-2:] in ['03','06','09','12'] else False for yyyymm in sample.index],:]\n",
    "    \n",
    "    sample.index = pd.to_datetime(sample.index, format='%Y%m')\n",
    "    \n",
    "    sample = sample.dropna(subset=['Small-HML_Q'],axis=0)\n",
    "    plot_acf(sample['Small-HML_Q'], lags=np.arange(13), title=\"ACF: \" + str(syyyymm) + \"-\" + str(eyyyymm))\n",
    "\n",
    "# calculate autocorrelation\n",
    "# syyyymm,eyyyymm = 196401,202106\n",
    "# acf_sHML_quartely_ret(syyyymm,eyyyymm)\n",
    "syyyymm,eyyyymm = 196401,199312\n",
    "acf_sHML_quartely_ret(syyyymm,eyyyymm)\n",
    "syyyymm,eyyyymm = 199401,200912\n",
    "acf_sHML_quartely_ret(syyyymm,eyyyymm)\n",
    "syyyymm,eyyyymm = 201001,202106\n",
    "acf_sHML_quartely_ret(syyyymm,eyyyymm)\n"
   ]
  },
  {
   "cell_type": "markdown",
   "id": "f31488d3",
   "metadata": {},
   "source": [
    "## (iv)\n",
    "What do your results suggest about the changing behavior of value returns in recent years? Do they support any of the concerns described above?"
   ]
  },
  {
   "cell_type": "markdown",
   "id": "a51814a1",
   "metadata": {},
   "source": [
    "[Answers]  \n",
    "The return, std, SR table shows that value premium seemingly has disappeared in recent years as the problem statement of (b) says. \n",
    "  \n",
    "The ACF graph based on returns during 199401-200912 tells the possibility of the existences of short-term positive autocorrelation (”style momentum”) and longer-term negative autocorrelation (”style reversal”), while the MA during the same period volatiles the most. These observation totally supports the argument of the relationship between money-in/out flow and the value premium and the argument of the style momentum/reversal."
   ]
  }
 ],
 "metadata": {
  "kernelspec": {
   "display_name": "Python (MS2021)",
   "language": "python",
   "name": "ms2021"
  },
  "language_info": {
   "codemirror_mode": {
    "name": "ipython",
    "version": 3
   },
   "file_extension": ".py",
   "mimetype": "text/x-python",
   "name": "python",
   "nbconvert_exporter": "python",
   "pygments_lexer": "ipython3",
   "version": "3.8.3"
  }
 },
 "nbformat": 4,
 "nbformat_minor": 5
}
